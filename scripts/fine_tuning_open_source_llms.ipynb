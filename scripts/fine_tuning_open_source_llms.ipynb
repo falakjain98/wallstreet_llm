{
 "cells": [
  {
   "cell_type": "markdown",
   "id": "f3117372",
   "metadata": {},
   "source": [
    "## Fine tuning best performing open source LLM to further improve results:\n",
    "\n",
    "https://colab.research.google.com/drive/1iEgdwne1Iw0Db_rIHvMzYCmfyTplDhQr#scrollTo=32vvrYRVAUNg"
   ]
  }
 ],
 "metadata": {
  "language_info": {
   "name": "python"
  }
 },
 "nbformat": 4,
 "nbformat_minor": 5
}
