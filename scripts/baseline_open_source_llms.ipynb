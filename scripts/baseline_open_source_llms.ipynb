{
 "cells": [
  {
   "cell_type": "markdown",
   "id": "c1c4ab88",
   "metadata": {},
   "source": [
    "### Running multiple open source models and narrowing down to the most accurate model:\n",
    "\n",
    "https://colab.research.google.com/drive/1T70pnV8eFAF8bL9wiZsXlnkBuvzsyTzG#scrollTo=5qgNxGCmNAw2"
   ]
  }
 ],
 "metadata": {
  "kernelspec": {
   "display_name": "open_source_llms",
   "language": "python",
   "name": "python3"
  },
  "language_info": {
   "codemirror_mode": {
    "name": "ipython",
    "version": 3
   },
   "file_extension": ".py",
   "mimetype": "text/x-python",
   "name": "python",
   "nbconvert_exporter": "python",
   "pygments_lexer": "ipython3",
   "version": "3.11.13"
  }
 },
 "nbformat": 4,
 "nbformat_minor": 5
}
