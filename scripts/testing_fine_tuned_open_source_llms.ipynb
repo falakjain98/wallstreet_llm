{
 "cells": [
  {
   "cell_type": "markdown",
   "id": "2afa261a",
   "metadata": {},
   "source": [
    "Evaluating the performance of fine tuned open source LLM: \n",
    "\n",
    "https://colab.research.google.com/drive/18xydJDHRD1e16hTRaHZ6BEOjOc3yUMeG#scrollTo=M4NSMcKl3Bhw"
   ]
  }
 ],
 "metadata": {
  "language_info": {
   "name": "python"
  }
 },
 "nbformat": 4,
 "nbformat_minor": 5
}
